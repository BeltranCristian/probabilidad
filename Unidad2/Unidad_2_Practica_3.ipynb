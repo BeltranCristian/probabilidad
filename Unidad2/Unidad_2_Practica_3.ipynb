{
  "cells": [
    {
      "cell_type": "markdown",
      "metadata": {
        "id": "view-in-github",
        "colab_type": "text"
      },
      "source": [
        "<a href=\"https://colab.research.google.com/github/BeltranCristian/probabilidad/blob/main/Unidad2/Unidad_2_Practica_3.ipynb\" target=\"_parent\"><img src=\"https://colab.research.google.com/assets/colab-badge.svg\" alt=\"Open In Colab\"/></a>"
      ]
    },
    {
      "cell_type": "markdown",
      "source": [
        "\\# **Probabilidad y Estadistica**\n",
        "##Grupo: 2y\n",
        "##Unidad 2\n",
        "Docente: Jose Gabriel Rodriguez Rivas\n",
        "\n",
        "Alumno: Cristian Emmanuel Beltran Luevanos\n",
        "\n",
        "**Practica 3: Ejercicio**"
      ],
      "metadata": {
        "id": "FTe8mBKg1MyE"
      }
    },
    {
      "cell_type": "code",
      "execution_count": 1,
      "metadata": {
        "colab": {
          "base_uri": "https://localhost:8080/"
        },
        "id": "INk5LRBO1Esa",
        "outputId": "01958970-1f20-46cd-9ddf-4174f0d7178b"
      },
      "outputs": [
        {
          "output_type": "stream",
          "name": "stdout",
          "text": [
            "Ejercicio: Permutaciones de asistentes\n",
            "Existen 10 asistentes y se eligen 4 en orden para calificar.\n",
            "El número de permutaciones posibles es: 5040.0\n",
            "\n",
            "Ejemplo de algunas permutaciones (primeras 10):\n",
            "(1, 2, 3, 4)\n",
            "(1, 2, 3, 5)\n",
            "(1, 2, 3, 6)\n",
            "(1, 2, 3, 7)\n",
            "(1, 2, 3, 8)\n",
            "(1, 2, 3, 9)\n",
            "(1, 2, 3, 10)\n",
            "(1, 2, 4, 3)\n",
            "(1, 2, 4, 5)\n",
            "(1, 2, 4, 6)\n"
          ]
        }
      ],
      "source": [
        "import math as mt\n",
        "from itertools import permutations\n",
        "\n",
        "n = 10\n",
        "r = 4\n",
        "\n",
        "Pr = mt.factorial(n) / mt.factorial(n - r)\n",
        "\n",
        "print(\"Ejercicio: Permutaciones de asistentes\")\n",
        "print(f\"Existen {n} asistentes y se eligen {r} en orden para calificar.\")\n",
        "print(\"El número de permutaciones posibles es:\", Pr)\n",
        "\n",
        "\n",
        "asistentes = list(range(1, n+1))\n",
        "permutaciones_asistentes = list(permutations(asistentes, r))\n",
        "\n",
        "print(\"\\nEjemplo de algunas permutaciones (primeras 10):\")\n",
        "for p in permutaciones_asistentes[:10]:\n",
        "    print(p)\n"
      ]
    }
  ],
  "metadata": {
    "colab": {
      "provenance": [],
      "include_colab_link": true
    },
    "kernelspec": {
      "display_name": "Python 3",
      "language": "python",
      "name": "python3"
    },
    "language_info": {
      "name": "python"
    }
  },
  "nbformat": 4,
  "nbformat_minor": 0
}