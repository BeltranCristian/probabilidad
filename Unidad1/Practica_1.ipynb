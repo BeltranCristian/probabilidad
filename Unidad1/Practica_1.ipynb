{
  "nbformat": 4,
  "nbformat_minor": 0,
  "metadata": {
    "colab": {
      "provenance": [],
      "authorship_tag": "ABX9TyNswK951vphPI6n5CwnHZGw",
      "include_colab_link": true
    },
    "kernelspec": {
      "name": "python3",
      "display_name": "Python 3"
    },
    "language_info": {
      "name": "python"
    }
  },
  "cells": [
    {
      "cell_type": "markdown",
      "metadata": {
        "id": "view-in-github",
        "colab_type": "text"
      },
      "source": [
        "<a href=\"https://colab.research.google.com/github/BeltranCristian/probabilidad/blob/main/Unidad1/Practica_1.ipynb\" target=\"_parent\"><img src=\"https://colab.research.google.com/assets/colab-badge.svg\" alt=\"Open In Colab\"/></a>"
      ]
    },
    {
      "cell_type": "markdown",
      "source": [
        "# **Probabilidad y Estadistica**\n",
        "##Grupo: 2y\n",
        "##Unidad 1\n",
        "Docente: Jose Gabriel Rodriguez Rivas\n",
        "\n",
        "Alumno: Cristian Emmanuel Beltran Luevanos\n",
        "\n",
        "**Practica 1: Medidas de tendencia central e histogramas**"
      ],
      "metadata": {
        "id": "62YLS8ZpH1ZA"
      }
    },
    {
      "cell_type": "code",
      "execution_count": null,
      "metadata": {
        "id": "cK_UZ-RR1v5y"
      },
      "outputs": [],
      "source": [
        "from stadistics import *"
      ]
    },
    {
      "cell_type": "code",
      "source": [
        "GrupoA = [70,70,65,90,100,95,45,80,73,20,100,96]\n",
        "print(GrupoA)\n",
        "type(GrupoA)"
      ],
      "metadata": {
        "colab": {
          "base_uri": "https://localhost:8080/"
        },
        "id": "Ovc_ALgB2zTn",
        "outputId": "79a6cd01-ab30-40c7-8d75-b62af559cef7"
      },
      "execution_count": 4,
      "outputs": [
        {
          "output_type": "stream",
          "name": "stdout",
          "text": [
            "[70, 70, 65, 90, 100, 95, 45, 80, 73, 20, 100, 96]\n"
          ]
        },
        {
          "output_type": "execute_result",
          "data": {
            "text/plain": [
              "list"
            ]
          },
          "metadata": {},
          "execution_count": 4
        }
      ]
    },
    {
      "cell_type": "code",
      "source": [
        "promedio = sum(GrupoA) / len (GrupoA)\n",
        "print(promedio)"
      ],
      "metadata": {
        "colab": {
          "base_uri": "https://localhost:8080/"
        },
        "id": "NBZ0Q2T739kA",
        "outputId": "93592363-710e-4b2b-9343-b6d81ea531a1"
      },
      "execution_count": null,
      "outputs": [
        {
          "output_type": "stream",
          "name": "stdout",
          "text": [
            "75.33333333333333\n"
          ]
        }
      ]
    },
    {
      "cell_type": "code",
      "source": [
        "promedio2 = mean(GrupoA)\n",
        "print (promedio2)"
      ],
      "metadata": {
        "colab": {
          "base_uri": "https://localhost:8080/"
        },
        "id": "NJT3sYpU4aBs",
        "outputId": "161d9cc8-f017-4096-8afd-de1a8aad573c"
      },
      "execution_count": null,
      "outputs": [
        {
          "output_type": "stream",
          "name": "stdout",
          "text": [
            "75.33333333333333\n"
          ]
        }
      ]
    },
    {
      "cell_type": "code",
      "source": [
        "mediana = median(GrupoA)\n",
        "print(mediana)"
      ],
      "metadata": {
        "colab": {
          "base_uri": "https://localhost:8080/"
        },
        "id": "EQmmb8-y44iT",
        "outputId": "5f2fbb19-b469-4b9d-87d8-4d7b79dba3ae"
      },
      "execution_count": null,
      "outputs": [
        {
          "output_type": "stream",
          "name": "stdout",
          "text": [
            "76.5\n"
          ]
        }
      ]
    },
    {
      "cell_type": "code",
      "source": [
        "moda = mode(GrupoA)\n",
        "print(moda)"
      ],
      "metadata": {
        "colab": {
          "base_uri": "https://localhost:8080/"
        },
        "id": "HGG3Qaj35DNv",
        "outputId": "abaa4ddd-bacc-4583-c808-72ff4ee3f7ab"
      },
      "execution_count": null,
      "outputs": [
        {
          "output_type": "stream",
          "name": "stdout",
          "text": [
            "70\n"
          ]
        }
      ]
    },
    {
      "cell_type": "code",
      "source": [
        "moda2 = multimode(GrupoA)\n",
        "print (moda2)"
      ],
      "metadata": {
        "colab": {
          "base_uri": "https://localhost:8080/"
        },
        "id": "WDwXmiIR5l3v",
        "outputId": "13ab6332-348b-4500-c131-ddf1070a9388"
      },
      "execution_count": null,
      "outputs": [
        {
          "output_type": "stream",
          "name": "stdout",
          "text": [
            "[70, 100]\n"
          ]
        }
      ]
    },
    {
      "cell_type": "code",
      "source": [
        "#Ejemplo 2\n",
        "tiempos100mts = [15.10,17.20,14.69,13.27,22.15,18.71,19.25,20.20,15.10,17.20]\n",
        "print(tiempos100mts)"
      ],
      "metadata": {
        "colab": {
          "base_uri": "https://localhost:8080/"
        },
        "id": "j-mUOCCQ6CBI",
        "outputId": "b0458146-9f0d-4afd-bd27-c5f3dc2993be"
      },
      "execution_count": null,
      "outputs": [
        {
          "output_type": "stream",
          "name": "stdout",
          "text": [
            "[15.1, 17.2, 14.69, 13.27, 22.15, 18.71, 19.25, 20.2, 15.1, 17.2]\n"
          ]
        }
      ]
    },
    {
      "cell_type": "code",
      "source": [
        "print(\"El tiempo promedio de los jugadores es=>\", mean(tiempos100mts))"
      ],
      "metadata": {
        "colab": {
          "base_uri": "https://localhost:8080/"
        },
        "id": "iNrFaDbK6sRY",
        "outputId": "8c0950ed-5974-4205-a043-89b8fd58213a"
      },
      "execution_count": null,
      "outputs": [
        {
          "output_type": "stream",
          "name": "stdout",
          "text": [
            "El tiempo promedio de los jugadores es=> 17.287\n"
          ]
        }
      ]
    },
    {
      "cell_type": "code",
      "source": [
        "mediana = median(tiempos100mts)\n",
        "print(\"La media de los timepos de los corredores es=>\", mediana)"
      ],
      "metadata": {
        "colab": {
          "base_uri": "https://localhost:8080/"
        },
        "id": "HTQtZ6JP7Sb_",
        "outputId": "f1cb865c-881e-4a93-f0ad-5686efe0205c"
      },
      "execution_count": null,
      "outputs": [
        {
          "output_type": "stream",
          "name": "stdout",
          "text": [
            "La media de los timepos de los corredores es=> 17.2\n"
          ]
        }
      ]
    },
    {
      "cell_type": "code",
      "source": [
        "moda = mode(tiempos100mts)\n",
        "print(\"La moda de los tiempos es=>\", moda)"
      ],
      "metadata": {
        "colab": {
          "base_uri": "https://localhost:8080/"
        },
        "id": "BIb0pB2G7zsQ",
        "outputId": "6f5e90b0-9b51-4a6b-a48a-70ce5df7d563"
      },
      "execution_count": null,
      "outputs": [
        {
          "output_type": "stream",
          "name": "stdout",
          "text": [
            "La moda de los tiempos es=> 15.1\n"
          ]
        }
      ]
    },
    {
      "cell_type": "code",
      "source": [
        "multimodas = multimode(tiempos100mts)\n",
        "print(\"La moda de los tiempos es=>\", multimodas)"
      ],
      "metadata": {
        "colab": {
          "base_uri": "https://localhost:8080/"
        },
        "id": "IFE4q1qO8M4j",
        "outputId": "3b0cb4dd-3155-4f69-84af-7b90eaafc3dc"
      },
      "execution_count": null,
      "outputs": [
        {
          "output_type": "stream",
          "name": "stdout",
          "text": [
            "La moda de los tiempos es=> [15.1, 17.2]\n"
          ]
        }
      ]
    },
    {
      "cell_type": "code",
      "source": [
        "#Ejemplo 3: Histogramas de 2 grupos\n",
        "#libreria para generar numeros aleatorios\n"
      ],
      "metadata": {
        "id": "eiztvYad8m_7"
      },
      "execution_count": null,
      "outputs": []
    },
    {
      "cell_type": "code",
      "source": [
        "import random\n",
        "import matplotlib.pyplot as plt\n",
        "fabrica1 = []\n",
        "for i in range(100):\n",
        "  numero_aleatorio = round(random.uniform(50, 100), 2)\n",
        "  fabrica1.append(numero_aleatorio)\n",
        "print(fabrica1)"
      ],
      "metadata": {
        "colab": {
          "base_uri": "https://localhost:8080/"
        },
        "id": "SSBTZYWS-OP5",
        "outputId": "c59123f6-3ecf-4401-903d-6baf359559f8",
        "collapsed": true
      },
      "execution_count": null,
      "outputs": [
        {
          "output_type": "stream",
          "name": "stdout",
          "text": [
            "[62.36, 89.59, 65.16, 86.72, 66.61, 86.35, 83.04, 70.9, 78.41, 61.79, 85.46, 93.65, 75.67, 74.93, 91.73, 56.28, 80.09, 95.31, 67.82, 60.81, 65.21, 79.52, 56.55, 60.53, 84.83, 94.57, 51.57, 65.34, 93.86, 94.97, 91.59, 55.26, 65.43, 67.19, 84.97, 87.15, 78.77, 72.28, 71.64, 51.93, 89.71, 67.82, 75.42, 62.31, 75.83, 66.43, 89.5, 91.16, 52.52, 76.99, 77.05, 84.95, 65.74, 86.5, 88.02, 96.48, 79.81, 60.83, 57.39, 87.33, 75.44, 95.41, 68.94, 60.78, 53.93, 93.43, 76.49, 60.29, 96.02, 58.11, 98.12, 59.07, 98.89, 55.05, 56.13, 67.86, 95.65, 53.16, 79.55, 87.75, 57.91, 90.12, 69.19, 58.25, 54.45, 98.59, 75.68, 94.61, 51.8, 76.23, 82.84, 84.24, 87.94, 77.42, 96.11, 56.31, 54.43, 91.61, 97.52, 95.88]\n"
          ]
        }
      ]
    },
    {
      "cell_type": "code",
      "source": [
        "import random\n",
        "import matplotlib.pyplot as plt\n",
        "fabrica2 = []\n",
        "for i in range(100):\n",
        "  numero_aleatorio = round(random.uniform(40, 93), 2)\n",
        "  fabrica2.append(numero_aleatorio)\n",
        "print(fabrica2)"
      ],
      "metadata": {
        "id": "rL2XKWg__g4S",
        "colab": {
          "base_uri": "https://localhost:8080/"
        },
        "outputId": "be57a971-2f89-4fb8-8181-9c311f3a7370"
      },
      "execution_count": null,
      "outputs": [
        {
          "output_type": "stream",
          "name": "stdout",
          "text": [
            "[74.68, 66.06, 51.38, 63.59, 89.79, 81.09, 78.82, 73.53, 92.6, 43.94, 89.8, 91.37, 55.56, 40.77, 81.49, 84.25, 77.84, 46.29, 58.02, 75.52, 46.15, 81.18, 66.25, 92.5, 78.4, 49.72, 69.36, 43.62, 63.41, 90.32, 81.39, 70.29, 62.42, 85.27, 59.65, 48.91, 57.42, 81.14, 47.56, 55.43, 73.59, 79.48, 54.33, 58.43, 45.78, 87.27, 87.66, 46.18, 69.35, 49.34, 92.42, 85.11, 73.36, 50.33, 49.7, 44.66, 85.74, 69.99, 63.43, 59.08, 49.55, 47.58, 92.98, 65.6, 65.75, 62.47, 83.26, 48.69, 81.87, 91.21, 64.88, 90.27, 87.2, 92.7, 61.53, 47.84, 62.19, 72.33, 76.07, 48.34, 92.53, 68.62, 76.1, 64.3, 77.92, 42.0, 49.04, 65.13, 89.3, 90.72, 43.11, 92.35, 41.09, 56.27, 92.52, 56.23, 54.83, 53.19, 72.35, 86.67]\n"
          ]
        }
      ]
    },
    {
      "cell_type": "code",
      "source": [
        "import matplotlib.pyplot as plt\n",
        "plt.hist(fabrica1)\n",
        "plt.title(\"Produccion diaria de la Fabrica 1\")"
      ],
      "metadata": {
        "colab": {
          "base_uri": "https://localhost:8080/",
          "height": 470
        },
        "id": "fuN0XDQtBBoh",
        "outputId": "cfca0caa-375d-4019-f7c2-db5bb2ff937a"
      },
      "execution_count": null,
      "outputs": [
        {
          "output_type": "execute_result",
          "data": {
            "text/plain": [
              "Text(0.5, 1.0, 'Produccion diaria de la Fabrica 1')"
            ]
          },
          "metadata": {},
          "execution_count": 9
        },
        {
          "output_type": "display_data",
          "data": {
            "text/plain": [
              "<Figure size 640x480 with 1 Axes>"
            ],
            "image/png": "[encoded data removed]"
          },
          "metadata": {}
        }
      ]
    },
    {
      "cell_type": "code",
      "source": [
        "plt.hist(fabrica2)\n",
        "plt.title(\"Produccion diaria de la Fabrica 2\")"
      ],
      "metadata": {
        "colab": {
          "base_uri": "https://localhost:8080/",
          "height": 470
        },
        "id": "Qz1QYwy5CtAV",
        "outputId": "dc1773e1-1b83-48f5-afc2-fbd6d3e31d51"
      },
      "execution_count": null,
      "outputs": [
        {
          "output_type": "execute_result",
          "data": {
            "text/plain": [
              "Text(0.5, 1.0, 'Produccion diaria de la Fabrica 2')"
            ]
          },
          "metadata": {},
          "execution_count": 10
        },
        {
          "output_type": "display_data",
          "data": {
            "text/plain": [
              "<Figure size 640x480 with 1 Axes>"
            ],
            "image/png": "[encoded data removed]"
          },
          "metadata": {}
        }
      ]
    },
    {
      "cell_type": "code",
      "source": [
        "fig, (ax1, ax2) = plt.subplots(nrows=1, ncols=2, figsize=(10, 5))\n",
        "ax1.hist(fabrica1)\n",
        "\n",
        "ax2.hist(fabrica2)\n",
        "\n",
        "plt.show()"
      ],
      "metadata": {
        "colab": {
          "base_uri": "https://localhost:8080/",
          "height": 445
        },
        "id": "iyJOm1lrE_NO",
        "outputId": "4a54cb62-da4f-445c-91c7-c30b0314f6f4"
      },
      "execution_count": null,
      "outputs": [
        {
          "output_type": "display_data",
          "data": {
            "text/plain": [
              "<Figure size 1000x500 with 2 Axes>"
            ],
            "image/png": "[encoded data removed]"
          },
          "metadata": {}
        }
      ]
    },
    {
      "cell_type": "code",
      "source": [
        "fabrica1 = [10, 12, 15, 20, 22, 22, 23, 25, 30, 30, 35, 40, 45, 50]\n",
        "import matplotlib.pyplot as plt\n",
        "\n",
        "plt.hist(fabrica1, bins=10, alpha=0.2, color='b', edgecolor='black')\n",
        "#plt.hist(media, color='b', linestyle='dashed', linewidth=2, label='media')\n",
        "#plt.hist(mediana, color='r', linestyle='dashed', linewidth=2, label='mediana')\n",
        "#plt.hist(moda, color='y', linestyle='dashed', linewidth=2, label='moda')\n",
        "plt.xlabel('valor')\n",
        "plt.ylabel('frecuencia')\n",
        "plt.title(\"Produccion diaria de la fabrica 1\")\n",
        "plt.legend()\n",
        "plt.show()"
      ],
      "metadata": {
        "colab": {
          "base_uri": "https://localhost:8080/",
          "height": 527
        },
        "id": "um_8_7kxGQCi",
        "outputId": "bce25034-bec8-4ec6-b15b-15bd1993b830",
        "collapsed": true
      },
      "execution_count": 11,
      "outputs": [
        {
          "output_type": "stream",
          "name": "stderr",
          "text": [
            "/tmp/ipython-input-1605832243.py:11: UserWarning: No artists with labels found to put in legend.  Note that artists whose label start with an underscore are ignored when legend() is called with no argument.\n",
            "  plt.legend()\n"
          ]
        },
        {
          "output_type": "display_data",
          "data": {
            "text/plain": [
              "<Figure size 640x480 with 1 Axes>"
            ],
            "image/png": "[encoded data removed]"
          },
          "metadata": {}
        }
      ]
    }
  ]
}