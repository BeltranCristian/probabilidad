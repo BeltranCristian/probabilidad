{
  "cells": [
    {
      "cell_type": "markdown",
      "metadata": {
        "id": "view-in-github",
        "colab_type": "text"
      },
      "source": [
        "<a href=\"https://colab.research.google.com/github/BeltranCristian/probabilidad/blob/main/Unidad3/Ejercicio_1.ipynb\" target=\"_parent\"><img src=\"https://colab.research.google.com/assets/colab-badge.svg\" alt=\"Open In Colab\"/></a>"
      ]
    },
    {
      "cell_type": "code",
      "execution_count": 1,
      "id": "936f4e6e",
      "metadata": {
        "colab": {
          "base_uri": "https://localhost:8080/",
          "height": 854
        },
        "id": "936f4e6e",
        "outputId": "1c06e77b-1761-429c-c9f7-c04a2367d4dd"
      },
      "outputs": [
        {
          "output_type": "stream",
          "name": "stdout",
          "text": [
            "Suma de probabilidades: 0.9999999999999999\n",
            "   X  P(X)\n",
            "0  0  0.10\n",
            "1  1  0.25\n",
            "2  2  0.30\n",
            "3  3  0.20\n",
            "4  4  0.10\n",
            "5  5  0.05\n",
            "Valor esperado E[X]: 2.10\n",
            "Varianza Var(X): 1.69\n",
            "Desviación estándar: 1.30\n",
            "   X  P(X)  F(x)\n",
            "0  0  0.10  0.10\n",
            "1  1  0.25  0.35\n",
            "2  2  0.30  0.65\n",
            "3  3  0.20  0.85\n",
            "4  4  0.10  0.95\n",
            "5  5  0.05  1.00\n"
          ]
        },
        {
          "output_type": "display_data",
          "data": {
            "text/plain": [
              "<Figure size 640x480 with 1 Axes>"
            ],
            "image/png": "[encoded data removed]"
          },
          "metadata": {}
        },
        {
          "output_type": "stream",
          "name": "stdout",
          "text": [
            "\n",
            "Interpretación:\n",
            "El promedio esperado de células anormales es 2.10.\n",
            "Una desviación estándar baja indica poca variabilidad entre muestras.\n"
          ]
        }
      ],
      "source": [
        "\n",
        "import pandas as pd\n",
        "import numpy as np\n",
        "import matplotlib.pyplot as plt\n",
        "\n",
        "# Datos\n",
        "x = np.array([0, 1, 2, 3, 4, 5])\n",
        "p = np.array([0.10, 0.25, 0.30, 0.20, 0.10, 0.05])\n",
        "\n",
        "# 1. Verificar que las probabilidades sumen 1\n",
        "print(\"Suma de probabilidades:\", np.sum(p))\n",
        "\n",
        "# 2. Distribución de probabilidad\n",
        "dist = pd.DataFrame({'X': x, 'P(X)': p})\n",
        "print(dist)\n",
        "\n",
        "# 3. Cálculos\n",
        "E_X = np.sum(x * p)\n",
        "Var_X = np.sum(((x - E_X) ** 2) * p)\n",
        "Desv_X = np.sqrt(Var_X)\n",
        "\n",
        "print(f\"Valor esperado E[X]: {E_X:.2f}\")\n",
        "print(f\"Varianza Var(X): {Var_X:.2f}\")\n",
        "print(f\"Desviación estándar: {Desv_X:.2f}\")\n",
        "\n",
        "# 4. Función de distribución acumulada\n",
        "F = np.cumsum(p)\n",
        "dist['F(x)'] = F\n",
        "print(dist)\n",
        "\n",
        "plt.step(x, F, where='post')\n",
        "plt.title('Función de Distribución Acumulada F(x)')\n",
        "plt.xlabel('X')\n",
        "plt.ylabel('F(x)')\n",
        "plt.grid(True)\n",
        "plt.show()\n",
        "\n",
        "# 5. Interpretación\n",
        "print(\"\\nInterpretación:\")\n",
        "print(f\"El promedio esperado de células anormales es {E_X:.2f}.\")\n",
        "print(\"Una desviación estándar baja indica poca variabilidad entre muestras.\")\n"
      ]
    }
  ],
  "metadata": {
    "colab": {
      "provenance": [],
      "include_colab_link": true
    },
    "language_info": {
      "name": "python"
    },
    "kernelspec": {
      "name": "python3",
      "display_name": "Python 3"
    }
  },
  "nbformat": 4,
  "nbformat_minor": 5
}