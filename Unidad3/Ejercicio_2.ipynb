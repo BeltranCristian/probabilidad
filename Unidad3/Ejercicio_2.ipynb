{
  "cells": [
    {
      "cell_type": "markdown",
      "metadata": {
        "id": "view-in-github",
        "colab_type": "text"
      },
      "source": [
        "<a href=\"https://colab.research.google.com/github/BeltranCristian/probabilidad/blob/main/Unidad3/Ejercicio_2.ipynb\" target=\"_parent\"><img src=\"https://colab.research.google.com/assets/colab-badge.svg\" alt=\"Open In Colab\"/></a>"
      ]
    },
    {
      "cell_type": "code",
      "execution_count": null,
      "id": "7893d0c3",
      "metadata": {
        "id": "7893d0c3"
      },
      "outputs": [],
      "source": [
        "\n",
        "import pandas as pd\n",
        "import numpy as np\n",
        "import matplotlib.pyplot as plt\n",
        "\n",
        "# Datos\n",
        "x = np.array([0, 10, 20, 50])\n",
        "p = np.array([0.50, 0.30, 0.15, 0.05])\n",
        "\n",
        "# 1. Verificar suma de probabilidades\n",
        "print(\"Suma de probabilidades:\", np.sum(p))\n",
        "\n",
        "# 2. Distribución de probabilidad\n",
        "dist = pd.DataFrame({'Premio (X)': x, 'P(X)': p})\n",
        "print(dist)\n",
        "\n",
        "# 3. Cálculos\n",
        "E_X = np.sum(x * p)\n",
        "Var_X = np.sum(((x - E_X) ** 2) * p)\n",
        "Desv_X = np.sqrt(Var_X)\n",
        "\n",
        "print(f\"Valor esperado E[X]: {E_X:.2f}\")\n",
        "print(f\"Varianza Var(X): {Var_X:.2f}\")\n",
        "print(f\"Desviación estándar: {Desv_X:.2f}\")\n",
        "\n",
        "# 4. Función de distribución acumulada\n",
        "F = np.cumsum(p)\n",
        "dist['F(x)'] = F\n",
        "print(dist)\n",
        "\n",
        "plt.step(x, F, where='post')\n",
        "plt.title('Función de Distribución Acumulada F(x) - Tómbola')\n",
        "plt.xlabel('Premio (X)')\n",
        "plt.ylabel('F(x)')\n",
        "plt.grid(True)\n",
        "plt.show()\n",
        "\n",
        "# 5. Interpretación\n",
        "print(\"\\nInterpretación:\")\n",
        "print(f\"El valor esperado del premio es de {E_X:.2f} pesos.\")\n",
        "print(\"Si este valor es menor al costo del boleto, el juego no es favorable para el jugador.\")\n"
      ]
    }
  ],
  "metadata": {
    "colab": {
      "provenance": [],
      "include_colab_link": true
    }
  },
  "nbformat": 4,
  "nbformat_minor": 5
}